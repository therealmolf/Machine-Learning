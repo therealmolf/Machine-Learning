{
  "nbformat": 4,
  "nbformat_minor": 0,
  "metadata": {
    "kernelspec": {
      "display_name": "Python 3",
      "language": "python",
      "name": "python3"
    },
    "language_info": {
      "codemirror_mode": {
        "name": "ipython",
        "version": 3
      },
      "file_extension": ".py",
      "mimetype": "text/x-python",
      "name": "python",
      "nbconvert_exporter": "python",
      "pygments_lexer": "ipython3",
      "version": "3.7.5"
    },
    "colab": {
      "name": "MLP for MultiClass Classification on Fashion MNIST.ipynb",
      "provenance": [],
      "include_colab_link": true
    }
  },
  "cells": [
    {
      "cell_type": "markdown",
      "metadata": {
        "id": "view-in-github",
        "colab_type": "text"
      },
      "source": [
        "<a href=\"https://colab.research.google.com/github/therealmolf/Machine-Learning/blob/master/MLP_for_MultiClass_Classification_on_Fashion_MNIST.ipynb\" target=\"_parent\"><img src=\"https://colab.research.google.com/assets/colab-badge.svg\" alt=\"Open In Colab\"/></a>"
      ]
    },
    {
      "cell_type": "code",
      "metadata": {
        "scrolled": true,
        "id": "y0W7sDuf8Wvw",
        "colab_type": "code",
        "colab": {},
        "outputId": "581f0055-b186-42c8-d5d9-bb5033d52ce9"
      },
      "source": [
        "import tensorflow as tf\n",
        "from tensorflow import keras\n",
        "\n",
        "fashion_mnist = keras.datasets.fashion_mnist\n",
        "(X_train_full, y_train_full), (X_test, y_test) = fashion_mnist.load_data()\n",
        "\n",
        "# when loading mnist or fashion using keras and not sklearn\n",
        "# image is rep. as 28x28 array rather than 1D array of 784, pixels are ints and not floats too\n",
        "\n",
        "# dataset has already been split into train and test, but no validation set yet\n",
        "\n",
        "X_valid, X_train = X_train_full[:5000] / 255.0, X_train_full[5000:] / 255.0\n",
        "y_valid, y_train = y_train_full[:5000], y_train_full[5000:]\n",
        "\n",
        "class_names = [\"T-shirt/top\",\"Trouser\", \"Pullover\", \"Dress\", \"Coat\", \"Sandal\", \"Shirt\", \"Sneaker\",\"Bag\",\n",
        "               \"Ankle Boot\" ]\n",
        "\n",
        "# class_names[y_train[4]]\n",
        "\n",
        "# lets build a neural network using Keras\n",
        "# simplest keras model is sequential\n",
        "\n",
        "model = keras.models.Sequential()\n",
        "model.add(keras.layers.Flatten(input_shape=[28, 28]))\n",
        "model.add(keras.layers.Dense(300, activation=\"relu\"))\n",
        "model.add(keras.layers.Dense(100, activation=\"relu\"))\n",
        "model.add(keras.layers.Dense(10, activation=\"softmax\"))\n",
        "\n",
        "# 1 passthrough layer for the input conversion, 2 hidden layers w 300 and 100 neurons respectively\n",
        "# 1 output layer with softmax activation for multiclass classification (10 fashion items)\n",
        "\n",
        "# a dense layer manages its own weight matrix (kernel) and vector of bias terms  one per neuron\n",
        "\n",
        "\n",
        "model.summary()"
      ],
      "execution_count": 0,
      "outputs": [
        {
          "output_type": "stream",
          "text": [
            "Model: \"sequential_1\"\n",
            "_________________________________________________________________\n",
            "Layer (type)                 Output Shape              Param #   \n",
            "=================================================================\n",
            "flatten_1 (Flatten)          (None, 784)               0         \n",
            "_________________________________________________________________\n",
            "dense_3 (Dense)              (None, 300)               235500    \n",
            "_________________________________________________________________\n",
            "dense_4 (Dense)              (None, 100)               30100     \n",
            "_________________________________________________________________\n",
            "dense_5 (Dense)              (None, 10)                1010      \n",
            "=================================================================\n",
            "Total params: 266,610\n",
            "Trainable params: 266,610\n",
            "Non-trainable params: 0\n",
            "_________________________________________________________________\n"
          ],
          "name": "stdout"
        }
      ]
    },
    {
      "cell_type": "code",
      "metadata": {
        "id": "inCOrfoM8WwX",
        "colab_type": "code",
        "colab": {},
        "outputId": "a446c6d6-8698-4e48-a626-33729ebaaffc"
      },
      "source": [
        "# after the model is created, call compile() method to specify loss n optimizer\n",
        "\n",
        "model.compile(loss=\"sparse_categorical_crossentropy\",\n",
        "             optimizer=\"sgd\",\n",
        "             metrics=[\"accuracy\"])\n",
        "# we are using sparse categorical because classes are exclusive\n",
        "\n",
        "history = model.fit(X_train, y_train, epochs=30, validation_data=(X_valid, y_valid))\n",
        "# fit returns History object\n"
      ],
      "execution_count": 0,
      "outputs": [
        {
          "output_type": "stream",
          "text": [
            "Train on 55000 samples, validate on 5000 samples\n",
            "Epoch 1/30\n",
            "55000/55000 [==============================] - 10s 185us/sample - loss: 0.7222 - acc: 0.7612 - val_loss: 0.4995 - val_acc: 0.8360\n",
            "Epoch 2/30\n",
            "55000/55000 [==============================] - 9s 171us/sample - loss: 0.4893 - acc: 0.8301 - val_loss: 0.4611 - val_acc: 0.8370\n",
            "Epoch 3/30\n",
            "55000/55000 [==============================] - 9s 170us/sample - loss: 0.4439 - acc: 0.8441 - val_loss: 0.4232 - val_acc: 0.8588\n",
            "Epoch 4/30\n",
            "55000/55000 [==============================] - 12s 213us/sample - loss: 0.4179 - acc: 0.8533 - val_loss: 0.3954 - val_acc: 0.8648\n",
            "Epoch 5/30\n",
            "55000/55000 [==============================] - 18s 327us/sample - loss: 0.3988 - acc: 0.8599 - val_loss: 0.3878 - val_acc: 0.8620\n",
            "Epoch 6/30\n",
            "55000/55000 [==============================] - 10s 187us/sample - loss: 0.3825 - acc: 0.8661 - val_loss: 0.3740 - val_acc: 0.8720\n",
            "Epoch 7/30\n",
            "55000/55000 [==============================] - 11s 204us/sample - loss: 0.3699 - acc: 0.8695 - val_loss: 0.3991 - val_acc: 0.8572\n",
            "Epoch 8/30\n",
            "55000/55000 [==============================] - 13s 239us/sample - loss: 0.3582 - acc: 0.8734 - val_loss: 0.3616 - val_acc: 0.8710\n",
            "Epoch 9/30\n",
            "55000/55000 [==============================] - 8s 150us/sample - loss: 0.3474 - acc: 0.8770 - val_loss: 0.3684 - val_acc: 0.8684\n",
            "Epoch 10/30\n",
            "55000/55000 [==============================] - 10s 175us/sample - loss: 0.3387 - acc: 0.8804 - val_loss: 0.3506 - val_acc: 0.8758\n",
            "Epoch 11/30\n",
            "55000/55000 [==============================] - 10s 182us/sample - loss: 0.3300 - acc: 0.8836 - val_loss: 0.3462 - val_acc: 0.8768\n",
            "Epoch 12/30\n",
            "55000/55000 [==============================] - 9s 170us/sample - loss: 0.3214 - acc: 0.8857 - val_loss: 0.3353 - val_acc: 0.8824\n",
            "Epoch 13/30\n",
            "55000/55000 [==============================] - 8s 154us/sample - loss: 0.3153 - acc: 0.8862 - val_loss: 0.3276 - val_acc: 0.8854\n",
            "Epoch 14/30\n",
            "55000/55000 [==============================] - 17s 304us/sample - loss: 0.3065 - acc: 0.8897 - val_loss: 0.3347 - val_acc: 0.8798\n",
            "Epoch 15/30\n",
            "55000/55000 [==============================] - 8s 154us/sample - loss: 0.3012 - acc: 0.8915 - val_loss: 0.3484 - val_acc: 0.8766\n",
            "Epoch 16/30\n",
            "55000/55000 [==============================] - 12s 211us/sample - loss: 0.2949 - acc: 0.8933 - val_loss: 0.3255 - val_acc: 0.8844\n",
            "Epoch 17/30\n",
            "55000/55000 [==============================] - 11s 193us/sample - loss: 0.2892 - acc: 0.8953 - val_loss: 0.3334 - val_acc: 0.8800\n",
            "Epoch 18/30\n",
            "55000/55000 [==============================] - 9s 157us/sample - loss: 0.2839 - acc: 0.8984 - val_loss: 0.3087 - val_acc: 0.8912\n",
            "Epoch 19/30\n",
            "55000/55000 [==============================] - 8s 154us/sample - loss: 0.2795 - acc: 0.8998 - val_loss: 0.3143 - val_acc: 0.8882\n",
            "Epoch 20/30\n",
            "55000/55000 [==============================] - 9s 157us/sample - loss: 0.2724 - acc: 0.9015 - val_loss: 0.3117 - val_acc: 0.8878\n",
            "Epoch 21/30\n",
            "55000/55000 [==============================] - 9s 160us/sample - loss: 0.2675 - acc: 0.9036 - val_loss: 0.3294 - val_acc: 0.8774\n",
            "Epoch 22/30\n",
            "55000/55000 [==============================] - 8s 146us/sample - loss: 0.2628 - acc: 0.9053 - val_loss: 0.3017 - val_acc: 0.8882\n",
            "Epoch 23/30\n",
            "55000/55000 [==============================] - 9s 155us/sample - loss: 0.2579 - acc: 0.9059 - val_loss: 0.3023 - val_acc: 0.8954\n",
            "Epoch 24/30\n",
            "55000/55000 [==============================] - 9s 155us/sample - loss: 0.2549 - acc: 0.9080 - val_loss: 0.3069 - val_acc: 0.8894\n",
            "Epoch 25/30\n",
            "55000/55000 [==============================] - 9s 159us/sample - loss: 0.2495 - acc: 0.9095 - val_loss: 0.3010 - val_acc: 0.8960\n",
            "Epoch 26/30\n",
            "55000/55000 [==============================] - 9s 158us/sample - loss: 0.2448 - acc: 0.9112 - val_loss: 0.2977 - val_acc: 0.8928\n",
            "Epoch 27/30\n",
            "55000/55000 [==============================] - 9s 157us/sample - loss: 0.2408 - acc: 0.9134 - val_loss: 0.3096 - val_acc: 0.8876\n",
            "Epoch 28/30\n",
            "55000/55000 [==============================] - 9s 158us/sample - loss: 0.2364 - acc: 0.9156 - val_loss: 0.2953 - val_acc: 0.8952\n",
            "Epoch 29/30\n",
            "55000/55000 [==============================] - 10s 180us/sample - loss: 0.2330 - acc: 0.9151 - val_loss: 0.3104 - val_acc: 0.8882\n",
            "Epoch 30/30\n",
            "55000/55000 [==============================] - 13s 240us/sample - loss: 0.2292 - acc: 0.9177 - val_loss: 0.3123 - val_acc: 0.8914\n"
          ],
          "name": "stdout"
        }
      ]
    },
    {
      "cell_type": "code",
      "metadata": {
        "scrolled": true,
        "id": "5TbYiKC98Ww_",
        "colab_type": "code",
        "colab": {},
        "outputId": "50ae82df-3472-44f6-83f1-7c00e7317af1"
      },
      "source": [
        "import pandas as pd\n",
        "import matplotlib.pyplot as plt\n",
        "\n",
        "pd.DataFrame(history.history).plot(figsize=(8,5))\n",
        "plt.grid(True)\n",
        "plt.gca().set_ylim(0,1) # set the vertical range to [0-1]\n",
        "plt.show()"
      ],
      "execution_count": 0,
      "outputs": [
        {
          "output_type": "display_data",
          "data": {
            "image/png": "[encoded data removed]",
            "text/plain": [
              "<Figure size 576x360 with 1 Axes>"
            ]
          },
          "metadata": {
            "tags": [],
            "needs_background": "light"
          }
        }
      ]
    },
    {
      "cell_type": "code",
      "metadata": {
        "id": "DJMwg6Bb8Wxf",
        "colab_type": "code",
        "colab": {}
      },
      "source": [
        ""
      ],
      "execution_count": 0,
      "outputs": []
    }
  ]
}